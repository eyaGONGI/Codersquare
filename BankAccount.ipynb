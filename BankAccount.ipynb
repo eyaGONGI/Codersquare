{
  "nbformat": 4,
  "nbformat_minor": 0,
  "metadata": {
    "colab": {
      "provenance": [],
      "authorship_tag": "ABX9TyNlx2C3jRricScVrdMq2Cww",
      "include_colab_link": true
    },
    "kernelspec": {
      "name": "python3",
      "display_name": "Python 3"
    },
    "language_info": {
      "name": "python"
    }
  },
  "cells": [
    {
      "cell_type": "markdown",
      "metadata": {
        "id": "view-in-github",
        "colab_type": "text"
      },
      "source": [
        "<a href=\"https://colab.research.google.com/github/eyaGONGI/Codersquare/blob/main/BankAccount.ipynb\" target=\"_parent\"><img src=\"https://colab.research.google.com/assets/colab-badge.svg\" alt=\"Open In Colab\"/></a>"
      ]
    },
    {
      "cell_type": "code",
      "execution_count": 3,
      "metadata": {
        "id": "4222CuKAc3bD"
      },
      "outputs": [],
      "source": [
        "class User:\n",
        "  def __init__ (self,name, amount):\n",
        "    self.name=name\n",
        "    self.amount=amount\n",
        "    self.BankAccount= BankAccount\n",
        "\n",
        "  def make_withdrawal(self, amount):\n",
        "    balance=0\n",
        "    balance -= amount\n",
        "    return balance\n",
        "  def display_user_balance(self, name,balance):\n",
        "    print(\"User: {},Balance: {}\".format(name,balance))\n",
        "\n",
        "\n",
        "class BankAccount:\n",
        "  def __init__(self,int_rate,balance):\n",
        "    self.int_rate=0.01\n",
        "    self.balance=0\n",
        "\n",
        "\n",
        "  def deposit(self, amount):\n",
        "\n",
        "    self.balance += amount\n",
        "    return self.balance\n",
        "\n",
        "  def withdraw(self, amount):\n",
        "    if self.balance > amount:\n",
        "        self.balance-=amount\n",
        "    elif self.balance < amount:\n",
        "      print(\"Insufficient funds: Charging a $5 fee\")\n",
        "      self.balance -=5\n",
        "    return self.balance\n",
        "\n",
        "  def display_account_info(self):\n",
        "    print(\"Balance: $100\")\n",
        "\n",
        "  def yield_interest(self):\n",
        "    if balance > 0 :\n",
        "        balance -= balance * int_rate\n",
        "    return balance"
      ]
    },
    {
      "cell_type": "code",
      "source": [
        "user1=User('Hugo', 500)\n",
        "BankAccount1=user1.BankAccount(20,2000)\n"
      ],
      "metadata": {
        "id": "RqLh8dqjqelG"
      },
      "execution_count": 13,
      "outputs": []
    }
  ]
}